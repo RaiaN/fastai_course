{
 "cells": [
  {
   "cell_type": "code",
   "execution_count": 2,
   "id": "1e1da1d4-6d7e-4b53-a184-f86134289a90",
   "metadata": {},
   "outputs": [],
   "source": [
    "from fastai.vision.all import *\n",
    "# print(URLs.__dict__)"
   ]
  },
  {
   "cell_type": "code",
   "execution_count": 25,
   "id": "6fab6a19-fd28-4b84-aee4-ced60ac1b8ec",
   "metadata": {},
   "outputs": [],
   "source": [
    "def is_falling_climber(x): \n",
    "    # print(x)\n",
    "    return 'falling' in x"
   ]
  },
  {
   "cell_type": "code",
   "execution_count": 34,
   "id": "20278548-d316-4018-9515-4d6725ed27f1",
   "metadata": {},
   "outputs": [
    {
     "name": "stdout",
     "output_type": "stream",
     "text": [
      "[Path('images/climbers_dataset/climber_falling_00.PNG'), Path('images/climbers_dataset/climber_falling_01.PNG'), Path('images/climbers_dataset/climber_falling_02.PNG'), Path('images/climbers_dataset/climber_falling_03.PNG'), Path('images/climbers_dataset/climber_falling_04.PNG'), Path('images/climbers_dataset/climber_falling_05.PNG'), Path('images/climbers_dataset/climber_falling_06.PNG'), Path('images/climbers_dataset/climber_falling_07.PNG'), Path('images/climbers_dataset/climber_falling_08.PNG'), Path('images/climbers_dataset/climber_falling_09.PNG'), Path('images/climbers_dataset/climber_falling_10.PNG'), Path('images/climbers_dataset/climber_falling_11.PNG'), Path('images/climbers_dataset/climber_falling_12.PNG'), Path('images/climbers_dataset/climber_falling_13.PNG'), Path('images/climbers_dataset/climber_falling_14.PNG'), Path('images/climbers_dataset/climber_falling_15.PNG'), Path('images/climbers_dataset/climber_falling_16.PNG'), Path('images/climbers_dataset/climber_falling_17.PNG'), Path('images/climbers_dataset/climber_falling_18.PNG'), Path('images/climbers_dataset/climber_falling_19.PNG'), Path('images/climbers_dataset/climber_falling_20.PNG'), Path('images/climbers_dataset/climber_steady_00.PNG'), Path('images/climbers_dataset/climber_steady_01.PNG'), Path('images/climbers_dataset/climber_steady_02.PNG'), Path('images/climbers_dataset/climber_steady_03.PNG'), Path('images/climbers_dataset/climber_steady_04.PNG'), Path('images/climbers_dataset/climber_steady_05.PNG'), Path('images/climbers_dataset/climber_steady_06.PNG'), Path('images/climbers_dataset/climber_steady_07.PNG'), Path('images/climbers_dataset/climber_steady_08.PNG'), Path('images/climbers_dataset/climber_steady_09.PNG'), Path('images/climbers_dataset/climber_steady_10.PNG'), Path('images/climbers_dataset/climber_steady_11.PNG'), Path('images/climbers_dataset/climber_steady_12.PNG'), Path('images/climbers_dataset/climber_steady_13.PNG'), Path('images/climbers_dataset/climber_steady_14.PNG'), Path('images/climbers_dataset/climber_steady_15.PNG'), Path('images/climbers_dataset/climber_steady_16.PNG'), Path('images/climbers_dataset/climber_steady_17.PNG'), Path('images/climbers_dataset/climber_steady_18.PNG'), Path('images/climbers_dataset/climber_steady_19.PNG'), Path('images/climbers_dataset/climber_steady_20.PNG')]\n"
     ]
    }
   ],
   "source": [
    "path = 'images\\climbers_dataset'\n",
    "print(get_image_files(path))"
   ]
  },
  {
   "cell_type": "code",
   "execution_count": 58,
   "id": "0751c073-3411-4b40-a3f3-b68dd7bcb580",
   "metadata": {},
   "outputs": [],
   "source": [
    "dls = ImageDataLoaders.from_name_func(\n",
    "    path, get_image_files(path), valid_pct=0.2, seed=42,\n",
    "    label_func=is_falling_climber, item_tfms=Resize(224), bs=16)"
   ]
  },
  {
   "cell_type": "code",
   "execution_count": 51,
   "id": "b011bbfd-06a7-445a-a2b1-a1b8fbf680cf",
   "metadata": {},
   "outputs": [],
   "source": [
    "learn = vision_learner(dls, resnet34, metrics=error_rate)"
   ]
  },
  {
   "cell_type": "code",
   "execution_count": 53,
   "id": "de40876c-cc29-43ff-a18b-bc74c79c0522",
   "metadata": {},
   "outputs": [
    {
     "data": {
      "text/html": [
       "\n",
       "<style>\n",
       "    /* Turns off some styling */\n",
       "    progress {\n",
       "        /* gets rid of default border in Firefox and Opera. */\n",
       "        border: none;\n",
       "        /* Needs to be in here for Safari polyfill so background images work as expected. */\n",
       "        background-size: auto;\n",
       "    }\n",
       "    progress:not([value]), progress:not([value])::-webkit-progress-bar {\n",
       "        background: repeating-linear-gradient(45deg, #7e7e7e, #7e7e7e 10px, #5c5c5c 10px, #5c5c5c 20px);\n",
       "    }\n",
       "    .progress-bar-interrupted, .progress-bar-interrupted::-webkit-progress-bar {\n",
       "        background: #F44336;\n",
       "    }\n",
       "</style>\n"
      ],
      "text/plain": [
       "<IPython.core.display.HTML object>"
      ]
     },
     "metadata": {},
     "output_type": "display_data"
    },
    {
     "data": {
      "text/html": [
       "<table border=\"1\" class=\"dataframe\">\n",
       "  <thead>\n",
       "    <tr style=\"text-align: left;\">\n",
       "      <th>epoch</th>\n",
       "      <th>train_loss</th>\n",
       "      <th>valid_loss</th>\n",
       "      <th>error_rate</th>\n",
       "      <th>time</th>\n",
       "    </tr>\n",
       "  </thead>\n",
       "  <tbody>\n",
       "    <tr>\n",
       "      <td>0</td>\n",
       "      <td>1.205072</td>\n",
       "      <td>1.787777</td>\n",
       "      <td>0.625000</td>\n",
       "      <td>00:01</td>\n",
       "    </tr>\n",
       "  </tbody>\n",
       "</table>"
      ],
      "text/plain": [
       "<IPython.core.display.HTML object>"
      ]
     },
     "metadata": {},
     "output_type": "display_data"
    },
    {
     "data": {
      "text/html": [
       "\n",
       "<style>\n",
       "    /* Turns off some styling */\n",
       "    progress {\n",
       "        /* gets rid of default border in Firefox and Opera. */\n",
       "        border: none;\n",
       "        /* Needs to be in here for Safari polyfill so background images work as expected. */\n",
       "        background-size: auto;\n",
       "    }\n",
       "    progress:not([value]), progress:not([value])::-webkit-progress-bar {\n",
       "        background: repeating-linear-gradient(45deg, #7e7e7e, #7e7e7e 10px, #5c5c5c 10px, #5c5c5c 20px);\n",
       "    }\n",
       "    .progress-bar-interrupted, .progress-bar-interrupted::-webkit-progress-bar {\n",
       "        background: #F44336;\n",
       "    }\n",
       "</style>\n"
      ],
      "text/plain": [
       "<IPython.core.display.HTML object>"
      ]
     },
     "metadata": {},
     "output_type": "display_data"
    },
    {
     "data": {
      "text/html": [
       "<table border=\"1\" class=\"dataframe\">\n",
       "  <thead>\n",
       "    <tr style=\"text-align: left;\">\n",
       "      <th>epoch</th>\n",
       "      <th>train_loss</th>\n",
       "      <th>valid_loss</th>\n",
       "      <th>error_rate</th>\n",
       "      <th>time</th>\n",
       "    </tr>\n",
       "  </thead>\n",
       "  <tbody>\n",
       "    <tr>\n",
       "      <td>0</td>\n",
       "      <td>0.921232</td>\n",
       "      <td>1.644939</td>\n",
       "      <td>0.750000</td>\n",
       "      <td>00:01</td>\n",
       "    </tr>\n",
       "    <tr>\n",
       "      <td>1</td>\n",
       "      <td>0.776171</td>\n",
       "      <td>1.687396</td>\n",
       "      <td>0.750000</td>\n",
       "      <td>00:01</td>\n",
       "    </tr>\n",
       "    <tr>\n",
       "      <td>2</td>\n",
       "      <td>0.583153</td>\n",
       "      <td>1.755046</td>\n",
       "      <td>0.750000</td>\n",
       "      <td>00:01</td>\n",
       "    </tr>\n",
       "    <tr>\n",
       "      <td>3</td>\n",
       "      <td>0.440122</td>\n",
       "      <td>1.764181</td>\n",
       "      <td>0.750000</td>\n",
       "      <td>00:01</td>\n",
       "    </tr>\n",
       "    <tr>\n",
       "      <td>4</td>\n",
       "      <td>0.348175</td>\n",
       "      <td>1.686136</td>\n",
       "      <td>0.625000</td>\n",
       "      <td>00:01</td>\n",
       "    </tr>\n",
       "  </tbody>\n",
       "</table>"
      ],
      "text/plain": [
       "<IPython.core.display.HTML object>"
      ]
     },
     "metadata": {},
     "output_type": "display_data"
    }
   ],
   "source": [
    "learn.fine_tune(5)"
   ]
  },
  {
   "cell_type": "code",
   "execution_count": 43,
   "id": "89ca9add-bbe8-4b70-883f-7637f4f8e758",
   "metadata": {},
   "outputs": [],
   "source": [
    "# import ipywidgets as widgets"
   ]
  },
  {
   "cell_type": "code",
   "execution_count": 51,
   "id": "3421442c-fe59-4896-bcd7-2bd4d0e61254",
   "metadata": {},
   "outputs": [
    {
     "name": "stdout",
     "output_type": "stream",
     "text": [
      "1.5.29\n"
     ]
    }
   ],
   "source": [
    "import fastcore\n",
    "print(fastcore.__version__)\n",
    "img = PILImage.create(\"images/cat_02_bad.PNG\")"
   ]
  },
  {
   "cell_type": "code",
   "execution_count": 50,
   "id": "cbe5c5e5-ea34-4eb4-a17b-e8885346f07f",
   "metadata": {},
   "outputs": [
    {
     "data": {
      "text/html": [
       "\n",
       "<style>\n",
       "    /* Turns off some styling */\n",
       "    progress {\n",
       "        /* gets rid of default border in Firefox and Opera. */\n",
       "        border: none;\n",
       "        /* Needs to be in here for Safari polyfill so background images work as expected. */\n",
       "        background-size: auto;\n",
       "    }\n",
       "    progress:not([value]), progress:not([value])::-webkit-progress-bar {\n",
       "        background: repeating-linear-gradient(45deg, #7e7e7e, #7e7e7e 10px, #5c5c5c 10px, #5c5c5c 20px);\n",
       "    }\n",
       "    .progress-bar-interrupted, .progress-bar-interrupted::-webkit-progress-bar {\n",
       "        background: #F44336;\n",
       "    }\n",
       "</style>\n"
      ],
      "text/plain": [
       "<IPython.core.display.HTML object>"
      ]
     },
     "metadata": {},
     "output_type": "display_data"
    },
    {
     "data": {
      "text/html": [],
      "text/plain": [
       "<IPython.core.display.HTML object>"
      ]
     },
     "metadata": {},
     "output_type": "display_data"
    },
    {
     "name": "stdout",
     "output_type": "stream",
     "text": [
      "Is this a cat?: True.\n",
      "Probability it's a cat: 1.000000\n"
     ]
    }
   ],
   "source": [
    "is_falling,_,probs = learn.predict(img)\n",
    "print(f\"Is this climber falling?: {is_falling}.\")\n",
    "print(f\"Probability it's a falling climber: {probs[1].item():.6f}\")"
   ]
  },
  {
   "cell_type": "code",
   "execution_count": 57,
   "id": "81758076-06d9-4ff1-89f1-ce1bd7924b20",
   "metadata": {},
   "outputs": [
    {
     "name": "stdout",
     "output_type": "stream",
     "text": [
      "11.8\n"
     ]
    }
   ],
   "source": [
    "import torch\n",
    "torch.cuda.is_available()\n",
    "print(torch.version.cuda)"
   ]
  },
  {
   "cell_type": "code",
   "execution_count": null,
   "id": "7c63b1c9-d592-4a72-8bd8-448962e7d01f",
   "metadata": {},
   "outputs": [],
   "source": []
  }
 ],
 "metadata": {
  "kernelspec": {
   "display_name": "Python 3 (ipykernel)",
   "language": "python",
   "name": "python3"
  },
  "language_info": {
   "codemirror_mode": {
    "name": "ipython",
    "version": 3
   },
   "file_extension": ".py",
   "mimetype": "text/x-python",
   "name": "python",
   "nbconvert_exporter": "python",
   "pygments_lexer": "ipython3",
   "version": "3.8.10"
  }
 },
 "nbformat": 4,
 "nbformat_minor": 5
}
