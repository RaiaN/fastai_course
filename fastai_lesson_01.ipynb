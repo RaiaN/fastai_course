{
 "cells": [
  {
   "cell_type": "code",
   "execution_count": 2,
   "id": "1e1da1d4-6d7e-4b53-a184-f86134289a90",
   "metadata": {},
   "outputs": [],
   "source": [
    "from fastai.vision.all import *\n",
    "# print(URLs.__dict__)"
   ]
  },
  {
   "cell_type": "code",
   "execution_count": 25,
   "id": "6fab6a19-fd28-4b84-aee4-ced60ac1b8ec",
   "metadata": {},
   "outputs": [],
   "source": [
    "def is_falling_climber(x): \n",
    "    # print(x)\n",
    "    return 'falling' in x"
   ]
  },
  {
   "cell_type": "code",
   "execution_count": 111,
   "id": "20278548-d316-4018-9515-4d6725ed27f1",
   "metadata": {},
   "outputs": [
    {
     "name": "stdout",
     "output_type": "stream",
     "text": [
      "[Path('images/climbers_input_dataset/climber_falling_00.PNG'), Path('images/climbers_input_dataset/climber_falling_01.PNG'), Path('images/climbers_input_dataset/climber_falling_02.PNG'), Path('images/climbers_input_dataset/climber_falling_03.PNG'), Path('images/climbers_input_dataset/climber_falling_04.PNG'), Path('images/climbers_input_dataset/climber_falling_05.PNG'), Path('images/climbers_input_dataset/climber_falling_06.PNG'), Path('images/climbers_input_dataset/climber_falling_07.PNG'), Path('images/climbers_input_dataset/climber_falling_08.PNG'), Path('images/climbers_input_dataset/climber_falling_09.PNG'), Path('images/climbers_input_dataset/climber_falling_10.PNG'), Path('images/climbers_input_dataset/climber_falling_11.PNG'), Path('images/climbers_input_dataset/climber_falling_12.PNG'), Path('images/climbers_input_dataset/climber_falling_13.PNG'), Path('images/climbers_input_dataset/climber_falling_14.PNG'), Path('images/climbers_input_dataset/climber_falling_15.PNG'), Path('images/climbers_input_dataset/climber_falling_16.PNG'), Path('images/climbers_input_dataset/climber_falling_17.PNG'), Path('images/climbers_input_dataset/climber_falling_18.PNG'), Path('images/climbers_input_dataset/climber_falling_19.PNG'), Path('images/climbers_input_dataset/climber_falling_20.PNG'), Path('images/climbers_input_dataset/climber_steady_00.PNG'), Path('images/climbers_input_dataset/climber_steady_01.PNG'), Path('images/climbers_input_dataset/climber_steady_02.PNG'), Path('images/climbers_input_dataset/climber_steady_03.PNG'), Path('images/climbers_input_dataset/climber_steady_04.PNG'), Path('images/climbers_input_dataset/climber_steady_05.PNG'), Path('images/climbers_input_dataset/climber_steady_06.PNG'), Path('images/climbers_input_dataset/climber_steady_07.PNG'), Path('images/climbers_input_dataset/climber_steady_08.PNG'), Path('images/climbers_input_dataset/climber_steady_09.PNG'), Path('images/climbers_input_dataset/climber_steady_10.PNG'), Path('images/climbers_input_dataset/climber_steady_11.PNG'), Path('images/climbers_input_dataset/climber_steady_12.PNG'), Path('images/climbers_input_dataset/climber_steady_13.PNG'), Path('images/climbers_input_dataset/climber_steady_14.PNG'), Path('images/climbers_input_dataset/climber_steady_15.PNG'), Path('images/climbers_input_dataset/climber_steady_16.PNG'), Path('images/climbers_input_dataset/climber_steady_17.PNG'), Path('images/climbers_input_dataset/climber_steady_18.PNG'), Path('images/climbers_input_dataset/climber_steady_19.PNG'), Path('images/climbers_input_dataset/climber_steady_20.PNG'), Path('images/climbers_input_dataset/climber_steady_21.PNG'), Path('images/climbers_input_dataset/climber_steady_22.PNG'), Path('images/climbers_input_dataset/climber_steady_23.PNG'), Path('images/climbers_input_dataset/climber_steady_24.PNG'), Path('images/climbers_input_dataset/climber_steady_25.PNG'), Path('images/climbers_input_dataset/climber_steady_26.PNG'), Path('images/climbers_input_dataset/climber_steady_27.PNG')]\n"
     ]
    }
   ],
   "source": [
    "path = 'images/climbers_input_dataset'\n",
    "print(get_image_files(path))"
   ]
  },
  {
   "cell_type": "code",
   "execution_count": 94,
   "id": "0751c073-3411-4b40-a3f3-b68dd7bcb580",
   "metadata": {},
   "outputs": [],
   "source": [
    "dls = ImageDataLoaders.from_name_func(\n",
    "    path, get_image_files(path), valid_pct=0.2, seed=42,\n",
    "    label_func=is_falling_climber, item_tfms=Resize(224), bs=16)"
   ]
  },
  {
   "cell_type": "code",
   "execution_count": 112,
   "id": "b011bbfd-06a7-445a-a2b1-a1b8fbf680cf",
   "metadata": {},
   "outputs": [],
   "source": [
    "learn = vision_learner(dls, resnet34, metrics=error_rate)"
   ]
  },
  {
   "cell_type": "code",
   "execution_count": 113,
   "id": "de40876c-cc29-43ff-a18b-bc74c79c0522",
   "metadata": {},
   "outputs": [
    {
     "data": {
      "text/html": [
       "\n",
       "<style>\n",
       "    /* Turns off some styling */\n",
       "    progress {\n",
       "        /* gets rid of default border in Firefox and Opera. */\n",
       "        border: none;\n",
       "        /* Needs to be in here for Safari polyfill so background images work as expected. */\n",
       "        background-size: auto;\n",
       "    }\n",
       "    progress:not([value]), progress:not([value])::-webkit-progress-bar {\n",
       "        background: repeating-linear-gradient(45deg, #7e7e7e, #7e7e7e 10px, #5c5c5c 10px, #5c5c5c 20px);\n",
       "    }\n",
       "    .progress-bar-interrupted, .progress-bar-interrupted::-webkit-progress-bar {\n",
       "        background: #F44336;\n",
       "    }\n",
       "</style>\n"
      ],
      "text/plain": [
       "<IPython.core.display.HTML object>"
      ]
     },
     "metadata": {},
     "output_type": "display_data"
    },
    {
     "data": {
      "text/html": [
       "<table border=\"1\" class=\"dataframe\">\n",
       "  <thead>\n",
       "    <tr style=\"text-align: left;\">\n",
       "      <th>epoch</th>\n",
       "      <th>train_loss</th>\n",
       "      <th>valid_loss</th>\n",
       "      <th>error_rate</th>\n",
       "      <th>time</th>\n",
       "    </tr>\n",
       "  </thead>\n",
       "  <tbody>\n",
       "    <tr>\n",
       "      <td>0</td>\n",
       "      <td>1.188990</td>\n",
       "      <td>1.664673</td>\n",
       "      <td>0.375000</td>\n",
       "      <td>00:01</td>\n",
       "    </tr>\n",
       "  </tbody>\n",
       "</table>"
      ],
      "text/plain": [
       "<IPython.core.display.HTML object>"
      ]
     },
     "metadata": {},
     "output_type": "display_data"
    },
    {
     "data": {
      "text/html": [
       "\n",
       "<style>\n",
       "    /* Turns off some styling */\n",
       "    progress {\n",
       "        /* gets rid of default border in Firefox and Opera. */\n",
       "        border: none;\n",
       "        /* Needs to be in here for Safari polyfill so background images work as expected. */\n",
       "        background-size: auto;\n",
       "    }\n",
       "    progress:not([value]), progress:not([value])::-webkit-progress-bar {\n",
       "        background: repeating-linear-gradient(45deg, #7e7e7e, #7e7e7e 10px, #5c5c5c 10px, #5c5c5c 20px);\n",
       "    }\n",
       "    .progress-bar-interrupted, .progress-bar-interrupted::-webkit-progress-bar {\n",
       "        background: #F44336;\n",
       "    }\n",
       "</style>\n"
      ],
      "text/plain": [
       "<IPython.core.display.HTML object>"
      ]
     },
     "metadata": {},
     "output_type": "display_data"
    },
    {
     "data": {
      "text/html": [
       "<table border=\"1\" class=\"dataframe\">\n",
       "  <thead>\n",
       "    <tr style=\"text-align: left;\">\n",
       "      <th>epoch</th>\n",
       "      <th>train_loss</th>\n",
       "      <th>valid_loss</th>\n",
       "      <th>error_rate</th>\n",
       "      <th>time</th>\n",
       "    </tr>\n",
       "  </thead>\n",
       "  <tbody>\n",
       "    <tr>\n",
       "      <td>0</td>\n",
       "      <td>0.919971</td>\n",
       "      <td>1.225477</td>\n",
       "      <td>0.375000</td>\n",
       "      <td>00:01</td>\n",
       "    </tr>\n",
       "    <tr>\n",
       "      <td>1</td>\n",
       "      <td>0.688500</td>\n",
       "      <td>1.104332</td>\n",
       "      <td>0.625000</td>\n",
       "      <td>00:01</td>\n",
       "    </tr>\n",
       "    <tr>\n",
       "      <td>2</td>\n",
       "      <td>0.615920</td>\n",
       "      <td>1.453158</td>\n",
       "      <td>0.625000</td>\n",
       "      <td>00:01</td>\n",
       "    </tr>\n",
       "    <tr>\n",
       "      <td>3</td>\n",
       "      <td>0.518307</td>\n",
       "      <td>1.918620</td>\n",
       "      <td>0.625000</td>\n",
       "      <td>00:01</td>\n",
       "    </tr>\n",
       "    <tr>\n",
       "      <td>4</td>\n",
       "      <td>0.420017</td>\n",
       "      <td>2.248909</td>\n",
       "      <td>0.625000</td>\n",
       "      <td>00:01</td>\n",
       "    </tr>\n",
       "    <tr>\n",
       "      <td>5</td>\n",
       "      <td>0.355693</td>\n",
       "      <td>2.453338</td>\n",
       "      <td>0.625000</td>\n",
       "      <td>00:01</td>\n",
       "    </tr>\n",
       "    <tr>\n",
       "      <td>6</td>\n",
       "      <td>0.312984</td>\n",
       "      <td>2.542872</td>\n",
       "      <td>0.625000</td>\n",
       "      <td>00:01</td>\n",
       "    </tr>\n",
       "    <tr>\n",
       "      <td>7</td>\n",
       "      <td>0.286789</td>\n",
       "      <td>2.520090</td>\n",
       "      <td>0.625000</td>\n",
       "      <td>00:01</td>\n",
       "    </tr>\n",
       "    <tr>\n",
       "      <td>8</td>\n",
       "      <td>0.250686</td>\n",
       "      <td>2.495704</td>\n",
       "      <td>0.500000</td>\n",
       "      <td>00:01</td>\n",
       "    </tr>\n",
       "    <tr>\n",
       "      <td>9</td>\n",
       "      <td>0.226503</td>\n",
       "      <td>2.533979</td>\n",
       "      <td>0.500000</td>\n",
       "      <td>00:01</td>\n",
       "    </tr>\n",
       "  </tbody>\n",
       "</table>"
      ],
      "text/plain": [
       "<IPython.core.display.HTML object>"
      ]
     },
     "metadata": {},
     "output_type": "display_data"
    }
   ],
   "source": [
    "learn.fine_tune(10)"
   ]
  },
  {
   "cell_type": "code",
   "execution_count": 43,
   "id": "89ca9add-bbe8-4b70-883f-7637f4f8e758",
   "metadata": {},
   "outputs": [],
   "source": [
    "# import ipywidgets as widgets"
   ]
  },
  {
   "cell_type": "code",
   "execution_count": 114,
   "id": "3421442c-fe59-4896-bcd7-2bd4d0e61254",
   "metadata": {},
   "outputs": [
    {
     "name": "stdout",
     "output_type": "stream",
     "text": [
      "1.5.29\n"
     ]
    }
   ],
   "source": [
    "import fastcore\n",
    "print(fastcore.__version__)\n",
    "# img = PILImage.create(\"images/climbers_test_dataset/test_02_falling.PNG\")\n",
    "imgs = [(x, PILImage.create(x)) for x in get_image_files('images/climbers_test_dataset')]"
   ]
  },
  {
   "cell_type": "code",
   "execution_count": 115,
   "id": "cbe5c5e5-ea34-4eb4-a17b-e8885346f07f",
   "metadata": {},
   "outputs": [
    {
     "name": "stdout",
     "output_type": "stream",
     "text": [
      "images\\climbers_test_dataset\\test_01_falling.PNG\n"
     ]
    },
    {
     "data": {
      "text/html": [
       "\n",
       "<style>\n",
       "    /* Turns off some styling */\n",
       "    progress {\n",
       "        /* gets rid of default border in Firefox and Opera. */\n",
       "        border: none;\n",
       "        /* Needs to be in here for Safari polyfill so background images work as expected. */\n",
       "        background-size: auto;\n",
       "    }\n",
       "    progress:not([value]), progress:not([value])::-webkit-progress-bar {\n",
       "        background: repeating-linear-gradient(45deg, #7e7e7e, #7e7e7e 10px, #5c5c5c 10px, #5c5c5c 20px);\n",
       "    }\n",
       "    .progress-bar-interrupted, .progress-bar-interrupted::-webkit-progress-bar {\n",
       "        background: #F44336;\n",
       "    }\n",
       "</style>\n"
      ],
      "text/plain": [
       "<IPython.core.display.HTML object>"
      ]
     },
     "metadata": {},
     "output_type": "display_data"
    },
    {
     "data": {
      "text/html": [],
      "text/plain": [
       "<IPython.core.display.HTML object>"
      ]
     },
     "metadata": {},
     "output_type": "display_data"
    },
    {
     "name": "stdout",
     "output_type": "stream",
     "text": [
      "Is this climber falling?: True.\n",
      "Probability it's a falling climber: 0.948216\n",
      "images\\climbers_test_dataset\\test_01_steady.PNG\n"
     ]
    },
    {
     "data": {
      "text/html": [
       "\n",
       "<style>\n",
       "    /* Turns off some styling */\n",
       "    progress {\n",
       "        /* gets rid of default border in Firefox and Opera. */\n",
       "        border: none;\n",
       "        /* Needs to be in here for Safari polyfill so background images work as expected. */\n",
       "        background-size: auto;\n",
       "    }\n",
       "    progress:not([value]), progress:not([value])::-webkit-progress-bar {\n",
       "        background: repeating-linear-gradient(45deg, #7e7e7e, #7e7e7e 10px, #5c5c5c 10px, #5c5c5c 20px);\n",
       "    }\n",
       "    .progress-bar-interrupted, .progress-bar-interrupted::-webkit-progress-bar {\n",
       "        background: #F44336;\n",
       "    }\n",
       "</style>\n"
      ],
      "text/plain": [
       "<IPython.core.display.HTML object>"
      ]
     },
     "metadata": {},
     "output_type": "display_data"
    },
    {
     "data": {
      "text/html": [],
      "text/plain": [
       "<IPython.core.display.HTML object>"
      ]
     },
     "metadata": {},
     "output_type": "display_data"
    },
    {
     "name": "stdout",
     "output_type": "stream",
     "text": [
      "Is this climber falling?: False.\n",
      "Probability it's a falling climber: 0.337493\n",
      "images\\climbers_test_dataset\\test_02_falling.PNG\n"
     ]
    },
    {
     "data": {
      "text/html": [
       "\n",
       "<style>\n",
       "    /* Turns off some styling */\n",
       "    progress {\n",
       "        /* gets rid of default border in Firefox and Opera. */\n",
       "        border: none;\n",
       "        /* Needs to be in here for Safari polyfill so background images work as expected. */\n",
       "        background-size: auto;\n",
       "    }\n",
       "    progress:not([value]), progress:not([value])::-webkit-progress-bar {\n",
       "        background: repeating-linear-gradient(45deg, #7e7e7e, #7e7e7e 10px, #5c5c5c 10px, #5c5c5c 20px);\n",
       "    }\n",
       "    .progress-bar-interrupted, .progress-bar-interrupted::-webkit-progress-bar {\n",
       "        background: #F44336;\n",
       "    }\n",
       "</style>\n"
      ],
      "text/plain": [
       "<IPython.core.display.HTML object>"
      ]
     },
     "metadata": {},
     "output_type": "display_data"
    },
    {
     "data": {
      "text/html": [],
      "text/plain": [
       "<IPython.core.display.HTML object>"
      ]
     },
     "metadata": {},
     "output_type": "display_data"
    },
    {
     "name": "stdout",
     "output_type": "stream",
     "text": [
      "Is this climber falling?: True.\n",
      "Probability it's a falling climber: 0.895811\n",
      "images\\climbers_test_dataset\\test_02_steady.PNG\n"
     ]
    },
    {
     "data": {
      "text/html": [
       "\n",
       "<style>\n",
       "    /* Turns off some styling */\n",
       "    progress {\n",
       "        /* gets rid of default border in Firefox and Opera. */\n",
       "        border: none;\n",
       "        /* Needs to be in here for Safari polyfill so background images work as expected. */\n",
       "        background-size: auto;\n",
       "    }\n",
       "    progress:not([value]), progress:not([value])::-webkit-progress-bar {\n",
       "        background: repeating-linear-gradient(45deg, #7e7e7e, #7e7e7e 10px, #5c5c5c 10px, #5c5c5c 20px);\n",
       "    }\n",
       "    .progress-bar-interrupted, .progress-bar-interrupted::-webkit-progress-bar {\n",
       "        background: #F44336;\n",
       "    }\n",
       "</style>\n"
      ],
      "text/plain": [
       "<IPython.core.display.HTML object>"
      ]
     },
     "metadata": {},
     "output_type": "display_data"
    },
    {
     "data": {
      "text/html": [],
      "text/plain": [
       "<IPython.core.display.HTML object>"
      ]
     },
     "metadata": {},
     "output_type": "display_data"
    },
    {
     "name": "stdout",
     "output_type": "stream",
     "text": [
      "Is this climber falling?: True.\n",
      "Probability it's a falling climber: 0.996372\n"
     ]
    }
   ],
   "source": [
    "for img_path, img in imgs:\n",
    "    print(img_path)\n",
    "    is_falling,_,probs = learn.predict(img)\n",
    "    print(f\"Is this climber falling?: {is_falling}.\")\n",
    "    print(f\"Probability it's a falling climber: {probs[1].item():.6f}\")"
   ]
  },
  {
   "cell_type": "code",
   "execution_count": null,
   "id": "7c63b1c9-d592-4a72-8bd8-448962e7d01f",
   "metadata": {},
   "outputs": [],
   "source": []
  }
 ],
 "metadata": {
  "kernelspec": {
   "display_name": "Python 3 (ipykernel)",
   "language": "python",
   "name": "python3"
  },
  "language_info": {
   "codemirror_mode": {
    "name": "ipython",
    "version": 3
   },
   "file_extension": ".py",
   "mimetype": "text/x-python",
   "name": "python",
   "nbconvert_exporter": "python",
   "pygments_lexer": "ipython3",
   "version": "3.8.10"
  }
 },
 "nbformat": 4,
 "nbformat_minor": 5
}
